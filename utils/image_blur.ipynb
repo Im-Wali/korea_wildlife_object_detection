{
 "cells": [
  {
   "cell_type": "code",
   "execution_count": 7,
   "metadata": {},
   "outputs": [
    {
     "name": "stdout",
     "output_type": "stream",
     "text": [
      "Requirement already satisfied: opencv-python in c:\\users\\dlawo\\anaconda3\\envs\\llm\\lib\\site-packages (4.10.0.84)\n",
      "Requirement already satisfied: numpy>=1.17.0 in c:\\users\\dlawo\\anaconda3\\envs\\llm\\lib\\site-packages (from opencv-python) (1.26.4)\n"
     ]
    }
   ],
   "source": [
    "!pip install opencv-python"
   ]
  },
  {
   "cell_type": "code",
   "execution_count": null,
   "metadata": {},
   "outputs": [
    {
     "name": "stdout",
     "output_type": "stream",
     "text": [
      "이미지를 불러오지 못했습니다. 경로를 확인하세요: C:/DEV/01. workspace/korea_wildlife_object_detection/dataset/sample/train/images/TS_01.고라니/A01_F03_C074_C_200114_3001_20S_000001.061.jpg\n"
     ]
    },
    {
     "ename": "error",
     "evalue": "OpenCV(4.10.0) D:\\a\\opencv-python\\opencv-python\\opencv\\modules\\imgproc\\src\\smooth.dispatch.cpp:617: error: (-215:Assertion failed) !_src.empty() in function 'cv::GaussianBlur'\n",
     "output_type": "error",
     "traceback": [
      "\u001b[1;31m---------------------------------------------------------------------------\u001b[0m",
      "\u001b[1;31merror\u001b[0m                                     Traceback (most recent call last)",
      "Cell \u001b[1;32mIn[1], line 18\u001b[0m\n\u001b[0;32m     15\u001b[0m     \u001b[38;5;28mprint\u001b[39m(\u001b[38;5;124m\"\u001b[39m\u001b[38;5;124m이미지 로드 성공!\u001b[39m\u001b[38;5;124m\"\u001b[39m)\n\u001b[0;32m     16\u001b[0m \u001b[38;5;66;03m# 블러 처리 (GaussianBlur)\u001b[39;00m\n\u001b[0;32m     17\u001b[0m \u001b[38;5;66;03m# (15, 15)는 커널 크기, 커널 크기가 클수록 더 많이 블러 처리됨\u001b[39;00m\n\u001b[1;32m---> 18\u001b[0m blurred_image \u001b[38;5;241m=\u001b[39m \u001b[43mcv2\u001b[49m\u001b[38;5;241;43m.\u001b[39;49m\u001b[43mGaussianBlur\u001b[49m\u001b[43m(\u001b[49m\u001b[43mimage\u001b[49m\u001b[43m,\u001b[49m\u001b[43m \u001b[49m\u001b[43m(\u001b[49m\u001b[38;5;241;43m15\u001b[39;49m\u001b[43m,\u001b[49m\u001b[43m \u001b[49m\u001b[38;5;241;43m15\u001b[39;49m\u001b[43m)\u001b[49m\u001b[43m,\u001b[49m\u001b[43m \u001b[49m\u001b[38;5;241;43m0\u001b[39;49m\u001b[43m)\u001b[49m\n\u001b[0;32m     20\u001b[0m \u001b[38;5;66;03m# 블러 처리된 이미지 저장\u001b[39;00m\n\u001b[0;32m     21\u001b[0m cv2\u001b[38;5;241m.\u001b[39mimwrite(output_image_path, blurred_image)\n",
      "\u001b[1;31merror\u001b[0m: OpenCV(4.10.0) D:\\a\\opencv-python\\opencv-python\\opencv\\modules\\imgproc\\src\\smooth.dispatch.cpp:617: error: (-215:Assertion failed) !_src.empty() in function 'cv::GaussianBlur'\n"
     ]
    }
   ],
   "source": [
    "import cv2\n",
    "import os\n",
    "import shutil\n",
    "from PIL import Image\n",
    "import numpy as np\n",
    "\n",
    "def apply_blur_and_copy(input_dir, output_dir):\n",
    "    \"\"\"\n",
    "    지정된 입력 디렉토리의 모든 파일을 출력 디렉토리에 복사하면서 이미지는 블러 처리함.\n",
    "\n",
    "    Parameters:\n",
    "        input_dir (str): 원본 디렉토리 경로.\n",
    "        output_dir (str): 블러 처리된 이미지를 저장할 디렉토리 경로.\n",
    "    \"\"\"\n",
    "    # 절대 경로로 변환\n",
    "    # input_dir = os.path.abspath(input_dir)\n",
    "    # output_dir = os.path.abspath(output_dir)\n",
    "\n",
    "    if not os.path.exists(input_dir):\n",
    "        print(f\"입력 디렉토리가 존재하지 않습니다: {input_dir}\")\n",
    "        return\n",
    "\n",
    "    # 출력 디렉토리 생성\n",
    "    if not os.path.exists(output_dir):\n",
    "        os.makedirs(output_dir)\n",
    "\n",
    "    # 입력 디렉토리의 모든 파일과 디렉토리 순회\n",
    "    for root, dirs, files in os.walk(input_dir):\n",
    "        # 상대 경로를 계산하여 출력 디렉토리의 서브 디렉토리 경로 생성\n",
    "        relative_path = os.path.relpath(root, input_dir)\n",
    "        output_subdir = os.path.join(output_dir, relative_path)\n",
    "\n",
    "        if not os.path.exists(output_subdir):\n",
    "            os.makedirs(output_subdir)\n",
    "\n",
    "        for file in files:\n",
    "            input_file_path = os.path.join(root, file)\n",
    "            output_file_path = os.path.join(output_subdir, file)\n",
    "\n",
    "            # 이미지인지 확인\n",
    "            try:\n",
    "                # 파일 확장자를 확인하여 이미지 여부 판단\n",
    "                if file.lower().endswith(('.jpg', '.jpeg', '.png', '.bmp', '.tiff', '.gif')):\n",
    "                    try:\n",
    "                        # PIL을 사용해 이미지 로드\n",
    "                        with Image.open(input_file_path) as img:\n",
    "                            image = np.array(img)\n",
    "                            # OpenCV에서 처리 가능한 형식인지 확인\n",
    "                            if image is not None:\n",
    "                                # 블러 처리\n",
    "                                blurred_image = cv2.GaussianBlur(image, (31, 31), 0)\n",
    "                                # 저장 디렉토리 확인 및 생성\n",
    "                                os.makedirs(os.path.dirname(output_file_path), exist_ok=True)\n",
    "                                # 블러 처리된 이미지 저장\n",
    "                                success = cv2.imwrite(output_file_path, blurred_image)\n",
    "                                if success:\n",
    "                                    continue\n",
    "                                    # print(f\"블러 처리된 이미지 저장: {output_file_path}\")\n",
    "                                else:\n",
    "                                    print(f\"이미지 저장 실패: {output_file_path}\")\n",
    "                            else:\n",
    "                                raise ValueError(\"OpenCV에서 이미지 변환 실패\")\n",
    "                    except Exception as e:\n",
    "                        print(f\"이미지 처리 실패, 원본 파일 복사: {input_file_path}, 오류: {e}\")\n",
    "                        shutil.copy2(input_file_path, output_file_path)\n",
    "                else:\n",
    "                    # 이미지가 아닌 경우 그냥 복사\n",
    "                    shutil.copy2(input_file_path, output_file_path)\n",
    "                    # print(f\"이미지가 아닌 파일 복사: {output_file_path}\")\n",
    "            except Exception as e:\n",
    "                print(f\"파일 처리 중 오류 발생 ({input_file_path}): {e}\")\n",
    "# 사용 예시\n",
    "input_directory = \"/home/K2023511/dataset/aihub-wild-animal/validation\"\n",
    "output_directory = \"/home/K2023511/dataset/aihub-wild-animal/validation_blur\"\n",
    "apply_blur_and_copy(input_directory, output_directory)\n"
   ]
  },
  {
   "cell_type": "markdown",
   "metadata": {},
   "source": []
  }
 ],
 "metadata": {
  "kernelspec": {
   "display_name": "llm",
   "language": "python",
   "name": "llm"
  },
  "language_info": {
   "codemirror_mode": {
    "name": "ipython",
    "version": 3
   },
   "file_extension": ".py",
   "mimetype": "text/x-python",
   "name": "python",
   "nbconvert_exporter": "python",
   "pygments_lexer": "ipython3",
   "version": "3.9.20"
  }
 },
 "nbformat": 4,
 "nbformat_minor": 2
}
