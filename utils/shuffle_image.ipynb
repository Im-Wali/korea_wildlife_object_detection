{
 "cells": [
  {
   "cell_type": "code",
   "execution_count": null,
   "metadata": {
    "vscode": {
     "languageId": "plaintext"
    }
   },
   "outputs": [],
   "source": [
    "import os\n",
    "import shutil\n",
    "import random\n",
    "\n",
    "def split_and_copy_images(input_dirs, output_dir, split_ratio=(3, 1)):\n",
    "    \"\"\"\n",
    "    동일한 구조를 가진 여러 입력 디렉토리의 이미지를 3:1 비율로 나누어 출력 디렉토리에 복사.\n",
    "\n",
    "    Parameters:\n",
    "        input_dirs (list): 처리할 이미지 디렉토리 목록.\n",
    "        output_dir (str): 결과 이미지를 저장할 디렉토리.\n",
    "        split_ratio (tuple): 분할 비율, 기본값은 3:1.\n",
    "    \"\"\"\n",
    "    if not os.path.exists(output_dir):\n",
    "        os.makedirs(output_dir)\n",
    "\n",
    "    # 이미지 복사 및 구조 탐색은 첫 번째 디렉토리 기준으로 수행\n",
    "    source_image_dir = input_dirs[0]\n",
    "\n",
    "    for root, dirs, files in os.walk(source_image_dir):  # 첫 번째 디렉토리 기준으로 탐색\n",
    "        relative_path = os.path.relpath(root, source_image_dir)\n",
    "\n",
    "        # 이미지 파일 처리\n",
    "        image_files = [f for f in files if f.lower().endswith(('jpg', 'jpeg', 'png', 'bmp', 'tiff'))]\n",
    "        if image_files:\n",
    "            for file in image_files:\n",
    "                random_number = random.randint(0, 2)\n",
    "                src_path = os.path.join(input_dirs[random_number], relative_path, file)  # 첫 번째 디렉토리 기준\n",
    "                dest_path = os.path.join(output_dir, relative_path, file)\n",
    "\n",
    "                if os.path.exists(src_path):\n",
    "                    os.makedirs(os.path.dirname(dest_path), exist_ok=True)\n",
    "                    shutil.copy2(src_path, dest_path)\n",
    "\n",
    "        # 이미지 외 파일 처리 (labels, json)\n",
    "        non_image_files = [f for f in files if not f.lower().endswith(('jpg', 'jpeg', 'png', 'bmp', 'tiff'))]\n",
    "        for file in non_image_files:\n",
    "            src_path = os.path.join(source_image_dir, relative_path, file)  # 첫 번째 디렉토리 기준\n",
    "            dest_path = os.path.join(output_dir, relative_path, file)\n",
    "\n",
    "            if os.path.exists(src_path):\n",
    "                os.makedirs(os.path.dirname(dest_path), exist_ok=True)\n",
    "                shutil.copy2(src_path, dest_path)\n",
    "# input_directory = \"/home/K2023511/dataset/aihub-wild-animal/validation\"\n",
    "# output_directory = \"/home/K2023511/dataset/aihub-wild-animal/validation_masked\"\n",
    "# 입력 디렉토리 목록\n",
    "# input_directories = [\n",
    "#     \"/home/K2023511/korea_wildlife_object_detection/dataset/sample/val\",\n",
    "#     \"/home/K2023511/korea_wildlife_object_detection/dataset/sample/val_blur\",\n",
    "#     \"/home/K2023511/korea_wildlife_object_detection/dataset/sample/val_masked\"\n",
    "# ]\n",
    "input_directories = [\n",
    "    \"/home/K2023511/aihub-wild-animal/validation\",\n",
    "    \"/home/K2023511/aihub-wild-animal/validation_blur\",\n",
    "    \"/home/K2023511/aihub-wild-animal/validation_masked\"\n",
    "]\n",
    "# 출력 디렉토리\n",
    "# output_directory = \"/home/K2023511/korea_wildlife_object_detection/dataset/sample/val_mix\"\n",
    "output_directory = \"/home/K2023511/aihub-wild-animal/validation_mix\"\n",
    "\n",
    "# 실행\n",
    "split_and_copy_images(input_directories, output_directory)\n"
   ]
  }
 ],
 "metadata": {
  "language_info": {
   "name": "python"
  }
 },
 "nbformat": 4,
 "nbformat_minor": 2
}
